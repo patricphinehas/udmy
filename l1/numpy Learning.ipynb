{
 "cells": [
  {
   "cell_type": "markdown",
   "id": "b1282b3d-3f40-4daa-a8cd-460be2ca6ee2",
   "metadata": {},
   "source": [
    "## Numpy Learning and Tricks"
   ]
  },
  {
   "cell_type": "code",
   "execution_count": 1,
   "id": "06e50ae2-61fb-42b6-97ea-803357e34641",
   "metadata": {},
   "outputs": [],
   "source": [
    "import numpy as np"
   ]
  },
  {
   "cell_type": "markdown",
   "id": "f01f4c09-6769-46ab-ae94-bc33de98ba6f",
   "metadata": {},
   "source": [
    "## datatype and attributes"
   ]
  },
  {
   "cell_type": "code",
   "execution_count": 2,
   "id": "a517b663-af11-4769-a0b8-bfedab1a160d",
   "metadata": {},
   "outputs": [
    {
     "data": {
      "text/plain": [
       "array([1, 2, 3])"
      ]
     },
     "execution_count": 2,
     "metadata": {},
     "output_type": "execute_result"
    }
   ],
   "source": [
    "# numpy' main datatype is ndarray\n",
    "\n",
    "a1 = np.array([1,2,3])\n",
    "a1"
   ]
  },
  {
   "cell_type": "code",
   "execution_count": 3,
   "id": "cef4e521-e166-40ed-8c27-af1f93c2b813",
   "metadata": {},
   "outputs": [
    {
     "data": {
      "text/plain": [
       "numpy.ndarray"
      ]
     },
     "execution_count": 3,
     "metadata": {},
     "output_type": "execute_result"
    }
   ],
   "source": [
    "type(a1)"
   ]
  },
  {
   "cell_type": "code",
   "execution_count": 4,
   "id": "4a484874-915b-4db4-863b-6743e9647302",
   "metadata": {},
   "outputs": [],
   "source": [
    "a2 = np.array([[1,2,3],\n",
    "               [4,5,6]])\n",
    "\n",
    "a3 = np.array([[[1,2,3],\n",
    "                [4,5,6]],\n",
    "               [[1,2,3],\n",
    "                [4,5,6]],\n",
    "               [[1,2,3],\n",
    "                [4,5,6]]])"
   ]
  },
  {
   "cell_type": "code",
   "execution_count": 5,
   "id": "0d1fdd02-acf1-40d0-9321-a851310a46ca",
   "metadata": {},
   "outputs": [
    {
     "data": {
      "text/plain": [
       "numpy.ndarray"
      ]
     },
     "execution_count": 5,
     "metadata": {},
     "output_type": "execute_result"
    }
   ],
   "source": [
    "type(a2)\n",
    "type(a3)"
   ]
  },
  {
   "cell_type": "code",
   "execution_count": 6,
   "id": "f6c6b0b3-18ee-4a57-8746-054239e9aba4",
   "metadata": {},
   "outputs": [
    {
     "data": {
      "text/plain": [
       "(3,)"
      ]
     },
     "execution_count": 6,
     "metadata": {},
     "output_type": "execute_result"
    }
   ],
   "source": [
    "a1.shape"
   ]
  },
  {
   "cell_type": "code",
   "execution_count": 7,
   "id": "a30befe1-7bc6-4232-8484-f452f2223bfd",
   "metadata": {},
   "outputs": [
    {
     "data": {
      "text/plain": [
       "(2, 3)"
      ]
     },
     "execution_count": 7,
     "metadata": {},
     "output_type": "execute_result"
    }
   ],
   "source": [
    "a2.shape"
   ]
  },
  {
   "cell_type": "code",
   "execution_count": 8,
   "id": "356ca1a9-c66a-4894-8ee2-3af1f90bbd00",
   "metadata": {},
   "outputs": [
    {
     "data": {
      "text/plain": [
       "(3, 2, 3)"
      ]
     },
     "execution_count": 8,
     "metadata": {},
     "output_type": "execute_result"
    }
   ],
   "source": [
    "a3.shape"
   ]
  },
  {
   "cell_type": "code",
   "execution_count": 9,
   "id": "b3099310-13aa-443f-b21d-2e8c7c675c34",
   "metadata": {},
   "outputs": [
    {
     "data": {
      "text/plain": [
       "(1, 2, 3)"
      ]
     },
     "execution_count": 9,
     "metadata": {},
     "output_type": "execute_result"
    }
   ],
   "source": [
    "a1.ndim, a2.ndim, a3.ndim"
   ]
  },
  {
   "cell_type": "markdown",
   "id": "7d11d984-65f9-4ed1-841f-f3149040bdea",
   "metadata": {},
   "source": [
    "## Create dataframe from ndarray"
   ]
  },
  {
   "cell_type": "code",
   "execution_count": 10,
   "id": "abf3f3bd-9426-4941-ad3f-7fccb1d79286",
   "metadata": {},
   "outputs": [],
   "source": [
    "import pandas as pd"
   ]
  },
  {
   "cell_type": "code",
   "execution_count": 11,
   "id": "c9fc45ed-d9c4-472a-9f0b-9431e4833254",
   "metadata": {},
   "outputs": [
    {
     "data": {
      "text/html": [
       "<div>\n",
       "<style scoped>\n",
       "    .dataframe tbody tr th:only-of-type {\n",
       "        vertical-align: middle;\n",
       "    }\n",
       "\n",
       "    .dataframe tbody tr th {\n",
       "        vertical-align: top;\n",
       "    }\n",
       "\n",
       "    .dataframe thead th {\n",
       "        text-align: right;\n",
       "    }\n",
       "</style>\n",
       "<table border=\"1\" class=\"dataframe\">\n",
       "  <thead>\n",
       "    <tr style=\"text-align: right;\">\n",
       "      <th></th>\n",
       "      <th>0</th>\n",
       "      <th>1</th>\n",
       "      <th>2</th>\n",
       "    </tr>\n",
       "  </thead>\n",
       "  <tbody>\n",
       "    <tr>\n",
       "      <th>0</th>\n",
       "      <td>1</td>\n",
       "      <td>2</td>\n",
       "      <td>3</td>\n",
       "    </tr>\n",
       "    <tr>\n",
       "      <th>1</th>\n",
       "      <td>4</td>\n",
       "      <td>5</td>\n",
       "      <td>6</td>\n",
       "    </tr>\n",
       "  </tbody>\n",
       "</table>\n",
       "</div>"
      ],
      "text/plain": [
       "   0  1  2\n",
       "0  1  2  3\n",
       "1  4  5  6"
      ]
     },
     "execution_count": 11,
     "metadata": {},
     "output_type": "execute_result"
    }
   ],
   "source": [
    "df = pd.DataFrame(a2)\n",
    "df"
   ]
  },
  {
   "cell_type": "markdown",
   "id": "fd9e00d3-4dab-4825-b7d4-296e8ab90cfe",
   "metadata": {},
   "source": [
    "# 2. creating arrays"
   ]
  },
  {
   "cell_type": "code",
   "execution_count": 12,
   "id": "2389a406-2386-4bf3-81cf-2659eab02c0b",
   "metadata": {},
   "outputs": [
    {
     "data": {
      "text/plain": [
       "array([[1, 1, 1],\n",
       "       [1, 1, 1]])"
      ]
     },
     "execution_count": 12,
     "metadata": {},
     "output_type": "execute_result"
    }
   ],
   "source": [
    "ones = np.ones((2,3),dtype=int)\n",
    "ones"
   ]
  },
  {
   "cell_type": "code",
   "execution_count": 13,
   "id": "b9597e92-0387-41bc-8f7c-a90793b32d7b",
   "metadata": {},
   "outputs": [
    {
     "data": {
      "text/plain": [
       "array([[0., 0., 0.],\n",
       "       [0., 0., 0.]])"
      ]
     },
     "execution_count": 13,
     "metadata": {},
     "output_type": "execute_result"
    }
   ],
   "source": [
    "zeros = np.zeros((2,3))\n",
    "zeros"
   ]
  },
  {
   "cell_type": "code",
   "execution_count": 14,
   "id": "96fb01fe-6a9d-4f62-b805-28cef5a41f10",
   "metadata": {},
   "outputs": [
    {
     "data": {
      "text/plain": [
       "array([2, 4, 6, 8])"
      ]
     },
     "execution_count": 14,
     "metadata": {},
     "output_type": "execute_result"
    }
   ],
   "source": [
    "range_arr = np.arange(2,10,2)\n",
    "range_arr"
   ]
  },
  {
   "cell_type": "code",
   "execution_count": 15,
   "id": "43b3674a-8a34-48f1-a7f7-75f98b16fc0b",
   "metadata": {},
   "outputs": [],
   "source": [
    "randomNum = np.random.randint(1,230, size= 10)"
   ]
  },
  {
   "cell_type": "code",
   "execution_count": 16,
   "id": "2fa7705c-9f0b-47ce-ae32-352919501698",
   "metadata": {},
   "outputs": [
    {
     "data": {
      "text/plain": [
       "array([151,  33, 106, 229,  24, 165,  90,  12, 114, 124])"
      ]
     },
     "execution_count": 16,
     "metadata": {},
     "output_type": "execute_result"
    }
   ],
   "source": [
    "randomNum"
   ]
  },
  {
   "cell_type": "code",
   "execution_count": 17,
   "id": "81aa9ffc-11dc-44de-ac2a-87177807e031",
   "metadata": {},
   "outputs": [
    {
     "data": {
      "text/plain": [
       "array([[0.30009798, 0.79445021, 0.60676117],\n",
       "       [0.90963478, 0.83173303, 0.07659384],\n",
       "       [0.78352505, 0.56988915, 0.67482126],\n",
       "       [0.35106498, 0.95754138, 0.77429761],\n",
       "       [0.87956284, 0.8718114 , 0.81934009]])"
      ]
     },
     "execution_count": 17,
     "metadata": {},
     "output_type": "execute_result"
    }
   ],
   "source": [
    "ransomNum2 = np.random.random((5,3))\n",
    "ransomNum2"
   ]
  },
  {
   "cell_type": "code",
   "execution_count": 18,
   "id": "4bc779a6-1a94-44c4-829f-5840f02524da",
   "metadata": {},
   "outputs": [],
   "source": [
    "randomNum3 = np.random.rand(4,6)"
   ]
  },
  {
   "cell_type": "code",
   "execution_count": 19,
   "id": "399c87f7-7c9b-42db-88dd-a335785856bd",
   "metadata": {},
   "outputs": [
    {
     "data": {
      "text/plain": [
       "array([[0.1331596 , 0.73824398, 0.70677664, 0.42969864, 0.9792668 ,\n",
       "        0.62276464],\n",
       "       [0.58240351, 0.11470438, 0.69091308, 0.19091007, 0.27831965,\n",
       "        0.86032868],\n",
       "       [0.83205188, 0.31088732, 0.3121204 , 0.0818182 , 0.90686638,\n",
       "        0.65630054],\n",
       "       [0.98531157, 0.6314305 , 0.72936165, 0.20045593, 0.86931419,\n",
       "        0.45000247]])"
      ]
     },
     "execution_count": 19,
     "metadata": {},
     "output_type": "execute_result"
    }
   ],
   "source": [
    "randomNum3"
   ]
  },
  {
   "cell_type": "code",
   "execution_count": 20,
   "id": "3c7bfe42-e48a-4c47-8385-aef6926ad6c3",
   "metadata": {},
   "outputs": [
    {
     "data": {
      "text/plain": [
       "array([[7, 5, 1],\n",
       "       [8, 7, 8],\n",
       "       [2, 9, 7],\n",
       "       [7, 7, 9],\n",
       "       [8, 4, 2]])"
      ]
     },
     "execution_count": 20,
     "metadata": {},
     "output_type": "execute_result"
    }
   ],
   "source": [
    "#pseudo random numbers\n",
    "np.random.seed(seed=4)\n",
    "randomNum4 = np.random.randint(10,size=(5,3))\n",
    "randomNum4"
   ]
  },
  {
   "cell_type": "markdown",
   "id": "5f8347d7-d0c6-4295-9afe-67c669f1ddb0",
   "metadata": {},
   "source": [
    "## 4. Manipulating and comapring arrays"
   ]
  },
  {
   "cell_type": "markdown",
   "id": "d7a62589-8656-4337-aa68-d78ccf2f70f2",
   "metadata": {},
   "source": [
    "## arrithmetic manipulation"
   ]
  },
  {
   "cell_type": "code",
   "execution_count": 21,
   "id": "2ac7b18c-757c-430d-85ba-6e2e492f48cf",
   "metadata": {},
   "outputs": [],
   "source": [
    "a1 = np.array([1,2,3])"
   ]
  },
  {
   "cell_type": "code",
   "execution_count": 22,
   "id": "b45f5782-476a-43d5-8e8f-ad70c853e7ef",
   "metadata": {},
   "outputs": [
    {
     "data": {
      "text/plain": [
       "array([1, 2, 3])"
      ]
     },
     "execution_count": 22,
     "metadata": {},
     "output_type": "execute_result"
    }
   ],
   "source": [
    "a1"
   ]
  },
  {
   "cell_type": "code",
   "execution_count": 23,
   "id": "69155760-c7b0-432a-974e-5d6b7b3b1d79",
   "metadata": {},
   "outputs": [],
   "source": [
    "ones = np.ones(3)"
   ]
  },
  {
   "cell_type": "code",
   "execution_count": 24,
   "id": "4631a1bc-54ab-4c7e-bca7-4111140e6b93",
   "metadata": {},
   "outputs": [
    {
     "data": {
      "text/plain": [
       "array([1., 1., 1.])"
      ]
     },
     "execution_count": 24,
     "metadata": {},
     "output_type": "execute_result"
    }
   ],
   "source": [
    "ones"
   ]
  },
  {
   "cell_type": "code",
   "execution_count": 25,
   "id": "fd014811-2908-4664-b2b8-078b6f582136",
   "metadata": {},
   "outputs": [
    {
     "data": {
      "text/plain": [
       "array([2., 3., 4.])"
      ]
     },
     "execution_count": 25,
     "metadata": {},
     "output_type": "execute_result"
    }
   ],
   "source": [
    "a1+ones"
   ]
  },
  {
   "cell_type": "code",
   "execution_count": 26,
   "id": "007e4089-c362-4858-bf2c-c3a34683e948",
   "metadata": {},
   "outputs": [
    {
     "data": {
      "text/plain": [
       "array([0., 1., 2.])"
      ]
     },
     "execution_count": 26,
     "metadata": {},
     "output_type": "execute_result"
    }
   ],
   "source": [
    "a1 - ones"
   ]
  },
  {
   "cell_type": "code",
   "execution_count": 27,
   "id": "a9e0afca-4b63-461c-ac37-2ef2730942e3",
   "metadata": {},
   "outputs": [
    {
     "data": {
      "text/plain": [
       "array([1., 2., 3.])"
      ]
     },
     "execution_count": 27,
     "metadata": {},
     "output_type": "execute_result"
    }
   ],
   "source": [
    "a1 * ones"
   ]
  },
  {
   "cell_type": "code",
   "execution_count": 28,
   "id": "05692447-5bbb-4fab-aced-da6399c5a3e1",
   "metadata": {},
   "outputs": [
    {
     "data": {
      "text/plain": [
       "array([1., 2., 3.])"
      ]
     },
     "execution_count": 28,
     "metadata": {},
     "output_type": "execute_result"
    }
   ],
   "source": [
    "a1 /ones"
   ]
  },
  {
   "cell_type": "code",
   "execution_count": 29,
   "id": "2e5b3380-7d0f-4f96-8324-798e31adc633",
   "metadata": {},
   "outputs": [],
   "source": [
    "a2 = np.array([[1,2,3],[4,5,6]])"
   ]
  },
  {
   "cell_type": "code",
   "execution_count": 30,
   "id": "e234006e-8fa9-4eab-9a87-8b5bd6930437",
   "metadata": {},
   "outputs": [
    {
     "data": {
      "text/plain": [
       "array([[ 1,  4,  9],\n",
       "       [ 4, 10, 18]])"
      ]
     },
     "execution_count": 30,
     "metadata": {},
     "output_type": "execute_result"
    }
   ],
   "source": [
    "a1*a2"
   ]
  },
  {
   "cell_type": "code",
   "execution_count": 31,
   "id": "05a1d86c-f962-4a52-a357-a693ed16c60b",
   "metadata": {},
   "outputs": [
    {
     "data": {
      "text/plain": [
       "array([[1. , 1. , 1. ],\n",
       "       [4. , 2.5, 2. ]])"
      ]
     },
     "execution_count": 31,
     "metadata": {},
     "output_type": "execute_result"
    }
   ],
   "source": [
    "a2 / a1"
   ]
  },
  {
   "cell_type": "code",
   "execution_count": 32,
   "id": "c5802ef4-a2d4-446e-be15-6d9fbd7b0e53",
   "metadata": {},
   "outputs": [
    {
     "data": {
      "text/plain": [
       "array([[2, 4, 6],\n",
       "       [5, 7, 9]])"
      ]
     },
     "execution_count": 32,
     "metadata": {},
     "output_type": "execute_result"
    }
   ],
   "source": [
    "np.add(a1,a2)"
   ]
  },
  {
   "cell_type": "code",
   "execution_count": 33,
   "id": "8d217146-a7fc-4081-a9ab-75ab9176116b",
   "metadata": {},
   "outputs": [
    {
     "data": {
      "text/plain": [
       "array([[1, 2, 0],\n",
       "       [1, 2, 0]], dtype=int32)"
      ]
     },
     "execution_count": 33,
     "metadata": {},
     "output_type": "execute_result"
    }
   ],
   "source": [
    "np.mod(a2,3)"
   ]
  },
  {
   "cell_type": "markdown",
   "id": "8908ad06-9b76-43bf-8f36-a4929a8ae563",
   "metadata": {},
   "source": [
    "## Aggregation"
   ]
  },
  {
   "cell_type": "code",
   "execution_count": 34,
   "id": "48df956c-b5da-4850-942b-c0d3b3dca761",
   "metadata": {},
   "outputs": [],
   "source": [
    "listy_list = [1,2,3]"
   ]
  },
  {
   "cell_type": "code",
   "execution_count": 35,
   "id": "fcce8813-8a56-4e9e-ab45-054122e24f66",
   "metadata": {},
   "outputs": [
    {
     "data": {
      "text/plain": [
       "[1, 2, 3]"
      ]
     },
     "execution_count": 35,
     "metadata": {},
     "output_type": "execute_result"
    }
   ],
   "source": [
    "listy_list"
   ]
  },
  {
   "cell_type": "code",
   "execution_count": 36,
   "id": "9c353414-0254-47e7-a4e9-a312c2a90a6c",
   "metadata": {},
   "outputs": [
    {
     "data": {
      "text/plain": [
       "int"
      ]
     },
     "execution_count": 36,
     "metadata": {},
     "output_type": "execute_result"
    }
   ],
   "source": [
    "type(sum(listy_list))"
   ]
  },
  {
   "cell_type": "code",
   "execution_count": 37,
   "id": "f80b8bd4-a323-4f2d-a027-6057cbabbe68",
   "metadata": {},
   "outputs": [
    {
     "data": {
      "text/plain": [
       "numpy.int32"
      ]
     },
     "execution_count": 37,
     "metadata": {},
     "output_type": "execute_result"
    }
   ],
   "source": [
    "type(np.sum(listy_list))"
   ]
  },
  {
   "cell_type": "code",
   "execution_count": 38,
   "id": "f673efb2-4c88-4642-8189-edd8b07942c2",
   "metadata": {},
   "outputs": [
    {
     "data": {
      "text/plain": [
       "10000"
      ]
     },
     "execution_count": 38,
     "metadata": {},
     "output_type": "execute_result"
    }
   ],
   "source": [
    "# create a large array\n",
    "massive_array = np.random.random(10000)\n",
    "massive_array.size"
   ]
  },
  {
   "cell_type": "code",
   "execution_count": 39,
   "id": "97d2fd6d-f80d-42d6-8609-618512fbe793",
   "metadata": {},
   "outputs": [
    {
     "data": {
      "text/plain": [
       "array([0.00515915, 0.57235649, 0.36149634, 0.60413194, 0.39176619,\n",
       "       0.81194775, 0.61252534, 0.26647378, 0.64391427, 0.8110621 ,\n",
       "       0.01902474, 0.03978036, 0.94500385, 0.4463492 , 0.44134853,\n",
       "       0.06570954, 0.17586123, 0.86588276, 0.84352812, 0.92515316,\n",
       "       0.87030648, 0.83525671, 0.26097208, 0.03575818, 0.22876267,\n",
       "       0.21118056, 0.18072059, 0.31611622, 0.2410386 , 0.37536843,\n",
       "       0.63266398, 0.22303252, 0.1387512 , 0.57699697, 0.35167371,\n",
       "       0.46775035, 0.35876637, 0.08316909, 0.25290961, 0.0474055 ,\n",
       "       0.92940665, 0.23614132, 0.81090494, 0.12618166, 0.07570637,\n",
       "       0.68558821, 0.94707403, 0.31567349, 0.87627208, 0.69816561,\n",
       "       0.35637309, 0.90457609, 0.37641947, 0.84672227, 0.73344115,\n",
       "       0.69898103, 0.66950987, 0.07997924, 0.04464783, 0.09519808,\n",
       "       0.21743029, 0.80701655, 0.10038043, 0.06425137, 0.94395067,\n",
       "       0.16287172, 0.59187365, 0.95035466, 0.36676967, 0.02161869,\n",
       "       0.5206744 , 0.30701267, 0.83314855, 0.9293686 , 0.12893534,\n",
       "       0.83113543, 0.78675315, 0.68964411, 0.65044111, 0.93729148,\n",
       "       0.23615167, 0.48145994, 0.92740861, 0.17740798, 0.15302825,\n",
       "       0.96767963, 0.32061564, 0.8857971 , 0.54537692, 0.37110618,\n",
       "       0.13692582, 0.11251033, 0.07228326, 0.19323909, 0.0029266 ,\n",
       "       0.87679286, 0.93713451, 0.50264808, 0.74749482, 0.48817109])"
      ]
     },
     "execution_count": 39,
     "metadata": {},
     "output_type": "execute_result"
    }
   ],
   "source": [
    "massive_array[:100]"
   ]
  },
  {
   "cell_type": "code",
   "execution_count": 40,
   "id": "97e289c4-a784-446f-8e6a-69bc18426223",
   "metadata": {},
   "outputs": [
    {
     "name": "stdout",
     "output_type": "stream",
     "text": [
      "831 µs ± 13.8 µs per loop (mean ± std. dev. of 7 runs, 1000 loops each)\n",
      "5.61 µs ± 56.6 ns per loop (mean ± std. dev. of 7 runs, 100000 loops each)\n"
     ]
    }
   ],
   "source": [
    "%timeit sum(massive_array)\n",
    "%timeit np.sum(massive_array)"
   ]
  },
  {
   "cell_type": "code",
   "execution_count": 41,
   "id": "032d0680-b78d-4a3f-90b8-5401fd646e59",
   "metadata": {},
   "outputs": [
    {
     "data": {
      "text/plain": [
       "0.5005569215123087"
      ]
     },
     "execution_count": 41,
     "metadata": {},
     "output_type": "execute_result"
    }
   ],
   "source": [
    "np.mean(massive_array)"
   ]
  },
  {
   "cell_type": "markdown",
   "id": "5d317248-7760-4291-9052-32078ee56184",
   "metadata": {},
   "source": [
    "# Standard Deviation & Variance"
   ]
  },
  {
   "cell_type": "code",
   "execution_count": 42,
   "id": "1f419208-9917-4f0a-9c5f-37c3f35807e2",
   "metadata": {},
   "outputs": [],
   "source": [
    "# high sd\n",
    "high_sd = np.array([1,100,200,300, 4000,5000])\n",
    "low_sd = np.array([2,4,6,8,10])"
   ]
  },
  {
   "cell_type": "code",
   "execution_count": 43,
   "id": "48ccd355-a23f-447e-a4cf-801459ac00a1",
   "metadata": {},
   "outputs": [
    {
     "data": {
      "text/plain": [
       "(4296133.472222221, 8.0)"
      ]
     },
     "execution_count": 43,
     "metadata": {},
     "output_type": "execute_result"
    }
   ],
   "source": [
    "np.var(high_sd),np.var(low_sd)"
   ]
  },
  {
   "cell_type": "code",
   "execution_count": 44,
   "id": "975058b9-4a5d-4dad-8adf-72e07f2daa8f",
   "metadata": {},
   "outputs": [
    {
     "data": {
      "text/plain": [
       "(2072.711623024829, 2.8284271247461903)"
      ]
     },
     "execution_count": 44,
     "metadata": {},
     "output_type": "execute_result"
    }
   ],
   "source": [
    "np.std(high_sd),np.std(low_sd)"
   ]
  },
  {
   "cell_type": "code",
   "execution_count": 45,
   "id": "d117ecba-2398-4bb8-8bef-2c160752c0e0",
   "metadata": {},
   "outputs": [
    {
     "data": {
      "text/plain": [
       "(1600.1666666666667, 6.0)"
      ]
     },
     "execution_count": 45,
     "metadata": {},
     "output_type": "execute_result"
    }
   ],
   "source": [
    "np.mean(high_sd),np.mean(low_sd)"
   ]
  },
  {
   "cell_type": "code",
   "execution_count": 46,
   "id": "a6dcab32-01d8-46fc-b80f-10fc18e8c0c3",
   "metadata": {},
   "outputs": [
    {
     "data": {
      "image/png": "[encoded data removed]",
      "text/plain": [
       "<Figure size 432x288 with 1 Axes>"
      ]
     },
     "metadata": {
      "needs_background": "light"
     },
     "output_type": "display_data"
    }
   ],
   "source": [
    "%matplotlib inline\n",
    "import matplotlib.pyplot as plt\n",
    "plt.hist(high_sd)\n",
    "plt.show()"
   ]
  },
  {
   "cell_type": "code",
   "execution_count": 47,
   "id": "efb294ef-acb0-4e9f-83df-4cd26a5088d3",
   "metadata": {},
   "outputs": [
    {
     "data": {
      "image/png": "[encoded data removed]",
      "text/plain": [
       "<Figure size 432x288 with 1 Axes>"
      ]
     },
     "metadata": {
      "needs_background": "light"
     },
     "output_type": "display_data"
    }
   ],
   "source": [
    "plt.hist(low_sd)\n",
    "plt.show()"
   ]
  },
  {
   "cell_type": "markdown",
   "id": "6925b8bc-02a4-4049-b381-feb2bae3352d",
   "metadata": {},
   "source": [
    "## Reshapping and Transposing"
   ]
  },
  {
   "cell_type": "code",
   "execution_count": 48,
   "id": "d61f5560-7a40-4104-b71a-b46c40d154f9",
   "metadata": {},
   "outputs": [
    {
     "data": {
      "text/plain": [
       "array([[1, 2, 3],\n",
       "       [4, 5, 6]])"
      ]
     },
     "execution_count": 48,
     "metadata": {},
     "output_type": "execute_result"
    }
   ],
   "source": [
    "a2"
   ]
  },
  {
   "cell_type": "code",
   "execution_count": 49,
   "id": "1bd19222-6e4f-45b8-804f-3438b690a788",
   "metadata": {},
   "outputs": [
    {
     "data": {
      "text/plain": [
       "(2, 3)"
      ]
     },
     "execution_count": 49,
     "metadata": {},
     "output_type": "execute_result"
    }
   ],
   "source": [
    "a2.shape"
   ]
  },
  {
   "cell_type": "code",
   "execution_count": 50,
   "id": "4d00fe7c-56da-4dea-97a9-c00d0dbd630c",
   "metadata": {},
   "outputs": [
    {
     "data": {
      "text/plain": [
       "(3, 2, 3)"
      ]
     },
     "execution_count": 50,
     "metadata": {},
     "output_type": "execute_result"
    }
   ],
   "source": [
    "a3.shape"
   ]
  },
  {
   "cell_type": "code",
   "execution_count": 51,
   "id": "d8f925e9-3fa6-410a-9e52-aa0ec0f04dce",
   "metadata": {},
   "outputs": [
    {
     "data": {
      "text/plain": [
       "(2, 3, 1)"
      ]
     },
     "execution_count": 51,
     "metadata": {},
     "output_type": "execute_result"
    }
   ],
   "source": [
    "a2.reshape(2,3,1).shape"
   ]
  },
  {
   "cell_type": "code",
   "execution_count": 52,
   "id": "2ebce07b-c8d0-4f6d-a7f2-2779925ce1e2",
   "metadata": {},
   "outputs": [
    {
     "data": {
      "text/plain": [
       "array([[1, 4],\n",
       "       [2, 5],\n",
       "       [3, 6]])"
      ]
     },
     "execution_count": 52,
     "metadata": {},
     "output_type": "execute_result"
    }
   ],
   "source": [
    "#transpose\n",
    "a2.T"
   ]
  },
  {
   "cell_type": "code",
   "execution_count": 53,
   "id": "6d46c2f0-4e1b-4b18-bd14-32d2f8ebf6c0",
   "metadata": {},
   "outputs": [
    {
     "data": {
      "text/plain": [
       "(3, 2)"
      ]
     },
     "execution_count": 53,
     "metadata": {},
     "output_type": "execute_result"
    }
   ],
   "source": [
    "a2.T.shape"
   ]
  },
  {
   "cell_type": "markdown",
   "id": "fcf0987d-8b68-440a-8df0-8274d7de0118",
   "metadata": {},
   "source": [
    "## Dot Product"
   ]
  },
  {
   "cell_type": "code",
   "execution_count": 54,
   "id": "6b26e9cf-b325-468b-ad47-1cd306988fae",
   "metadata": {},
   "outputs": [],
   "source": [
    "np.random.seed(0)\n",
    "\n",
    "mat1 = np.random.randint(10, size = (5,3))\n",
    "mat2 = np.random.randint(10, size = (5,3))\n"
   ]
  },
  {
   "cell_type": "code",
   "execution_count": 55,
   "id": "47c087fc-016f-4bd0-90be-fb8905a274f3",
   "metadata": {},
   "outputs": [
    {
     "data": {
      "text/plain": [
       "array([[5, 0, 3],\n",
       "       [3, 7, 9],\n",
       "       [3, 5, 2],\n",
       "       [4, 7, 6],\n",
       "       [8, 8, 1]])"
      ]
     },
     "execution_count": 55,
     "metadata": {},
     "output_type": "execute_result"
    }
   ],
   "source": [
    "mat1"
   ]
  },
  {
   "cell_type": "code",
   "execution_count": 56,
   "id": "51767a3c-e601-461c-ad3e-650dd494afe4",
   "metadata": {},
   "outputs": [
    {
     "data": {
      "text/plain": [
       "array([[6, 7, 7],\n",
       "       [8, 1, 5],\n",
       "       [9, 8, 9],\n",
       "       [4, 3, 0],\n",
       "       [3, 5, 0]])"
      ]
     },
     "execution_count": 56,
     "metadata": {},
     "output_type": "execute_result"
    }
   ],
   "source": [
    "mat2"
   ]
  },
  {
   "cell_type": "code",
   "execution_count": 57,
   "id": "8d1f4ddb-b06c-48b5-a101-60cb2edf6371",
   "metadata": {},
   "outputs": [
    {
     "data": {
      "text/plain": [
       "array([[30,  0, 21],\n",
       "       [24,  7, 45],\n",
       "       [27, 40, 18],\n",
       "       [16, 21,  0],\n",
       "       [24, 40,  0]])"
      ]
     },
     "execution_count": 57,
     "metadata": {},
     "output_type": "execute_result"
    }
   ],
   "source": [
    "np.multiply(mat1, mat2)"
   ]
  },
  {
   "cell_type": "code",
   "execution_count": 58,
   "id": "aed4d6d8-5344-4a09-80c8-85f37ce0e7cb",
   "metadata": {},
   "outputs": [
    {
     "data": {
      "text/plain": [
       "array([[ 51,  55,  72,  20,  15],\n",
       "       [130,  76, 164,  33,  44],\n",
       "       [ 67,  39,  85,  27,  34],\n",
       "       [115,  69, 146,  37,  47],\n",
       "       [111,  77, 145,  56,  64]])"
      ]
     },
     "execution_count": 58,
     "metadata": {},
     "output_type": "execute_result"
    }
   ],
   "source": [
    "np.dot(mat1, mat2.T)"
   ]
  },
  {
   "cell_type": "markdown",
   "id": "1f6185dc-44d4-4290-a41b-9644363a3ee5",
   "metadata": {},
   "source": [
    "# Dot product example (Nut Butter)"
   ]
  },
  {
   "cell_type": "code",
   "execution_count": 59,
   "id": "f14fed88-6937-40cb-b472-d9839f24a032",
   "metadata": {},
   "outputs": [
    {
     "data": {
      "text/plain": [
       "array([[12, 15,  0],\n",
       "       [ 3,  3,  7],\n",
       "       [ 9, 19, 18],\n",
       "       [ 4,  6, 12],\n",
       "       [ 1,  6,  7]])"
      ]
     },
     "execution_count": 59,
     "metadata": {},
     "output_type": "execute_result"
    }
   ],
   "source": [
    "np.random.seed(0)\n",
    "sales_amnts = np.random.randint(20,size=(5,3))\n",
    "sales_amnts"
   ]
  },
  {
   "cell_type": "code",
   "execution_count": 60,
   "id": "cd240732-d600-478e-a11a-3dcd7535f15b",
   "metadata": {},
   "outputs": [],
   "source": [
    "#weekly pd frame\n",
    "weekly_sales = pd.DataFrame(sales_amnts,index=[\"M\",\"T\",\"W\",\"T\",\"F\"],columns=[\"Almond Butter\", \"Peanut Butter\", \"Cashew Butter\"])"
   ]
  },
  {
   "cell_type": "code",
   "execution_count": 61,
   "id": "59c138de-b502-4247-a838-7156560d5c38",
   "metadata": {},
   "outputs": [
    {
     "data": {
      "text/html": [
       "<div>\n",
       "<style scoped>\n",
       "    .dataframe tbody tr th:only-of-type {\n",
       "        vertical-align: middle;\n",
       "    }\n",
       "\n",
       "    .dataframe tbody tr th {\n",
       "        vertical-align: top;\n",
       "    }\n",
       "\n",
       "    .dataframe thead th {\n",
       "        text-align: right;\n",
       "    }\n",
       "</style>\n",
       "<table border=\"1\" class=\"dataframe\">\n",
       "  <thead>\n",
       "    <tr style=\"text-align: right;\">\n",
       "      <th></th>\n",
       "      <th>Almond Butter</th>\n",
       "      <th>Peanut Butter</th>\n",
       "      <th>Cashew Butter</th>\n",
       "    </tr>\n",
       "  </thead>\n",
       "  <tbody>\n",
       "    <tr>\n",
       "      <th>M</th>\n",
       "      <td>12</td>\n",
       "      <td>15</td>\n",
       "      <td>0</td>\n",
       "    </tr>\n",
       "    <tr>\n",
       "      <th>T</th>\n",
       "      <td>3</td>\n",
       "      <td>3</td>\n",
       "      <td>7</td>\n",
       "    </tr>\n",
       "    <tr>\n",
       "      <th>W</th>\n",
       "      <td>9</td>\n",
       "      <td>19</td>\n",
       "      <td>18</td>\n",
       "    </tr>\n",
       "    <tr>\n",
       "      <th>T</th>\n",
       "      <td>4</td>\n",
       "      <td>6</td>\n",
       "      <td>12</td>\n",
       "    </tr>\n",
       "    <tr>\n",
       "      <th>F</th>\n",
       "      <td>1</td>\n",
       "      <td>6</td>\n",
       "      <td>7</td>\n",
       "    </tr>\n",
       "  </tbody>\n",
       "</table>\n",
       "</div>"
      ],
      "text/plain": [
       "   Almond Butter  Peanut Butter  Cashew Butter\n",
       "M             12             15              0\n",
       "T              3              3              7\n",
       "W              9             19             18\n",
       "T              4              6             12\n",
       "F              1              6              7"
      ]
     },
     "execution_count": 61,
     "metadata": {},
     "output_type": "execute_result"
    }
   ],
   "source": [
    "weekly_sales"
   ]
  },
  {
   "cell_type": "code",
   "execution_count": 62,
   "id": "f7444c18-fb83-422d-aaa7-77e69187bfde",
   "metadata": {},
   "outputs": [
    {
     "data": {
      "text/plain": [
       "array([10,  8, 12])"
      ]
     },
     "execution_count": 62,
     "metadata": {},
     "output_type": "execute_result"
    }
   ],
   "source": [
    "# prices\n",
    "prices = np.array([10,8,12])\n",
    "prices"
   ]
  },
  {
   "cell_type": "code",
   "execution_count": 63,
   "id": "33c724af-ef34-4ffc-aa1b-862121f32eea",
   "metadata": {},
   "outputs": [
    {
     "data": {
      "text/html": [
       "<div>\n",
       "<style scoped>\n",
       "    .dataframe tbody tr th:only-of-type {\n",
       "        vertical-align: middle;\n",
       "    }\n",
       "\n",
       "    .dataframe tbody tr th {\n",
       "        vertical-align: top;\n",
       "    }\n",
       "\n",
       "    .dataframe thead th {\n",
       "        text-align: right;\n",
       "    }\n",
       "</style>\n",
       "<table border=\"1\" class=\"dataframe\">\n",
       "  <thead>\n",
       "    <tr style=\"text-align: right;\">\n",
       "      <th></th>\n",
       "      <th>Almond Butter</th>\n",
       "      <th>Peanut Butter</th>\n",
       "      <th>Cashew Butter</th>\n",
       "    </tr>\n",
       "  </thead>\n",
       "  <tbody>\n",
       "    <tr>\n",
       "      <th>Price</th>\n",
       "      <td>10</td>\n",
       "      <td>8</td>\n",
       "      <td>12</td>\n",
       "    </tr>\n",
       "  </tbody>\n",
       "</table>\n",
       "</div>"
      ],
      "text/plain": [
       "       Almond Butter  Peanut Butter  Cashew Butter\n",
       "Price             10              8             12"
      ]
     },
     "execution_count": 63,
     "metadata": {},
     "output_type": "execute_result"
    }
   ],
   "source": [
    "#create butter_prices df\n",
    "butter_prices = pd.DataFrame(prices.reshape(1,3),index=[\"Price\"],columns=[\"Almond Butter\", \"Peanut Butter\", \"Cashew Butter\"])\n",
    "butter_prices"
   ]
  },
  {
   "cell_type": "code",
   "execution_count": 64,
   "id": "5cc39a16-b637-4ef4-8e8e-d856ccc00fad",
   "metadata": {},
   "outputs": [],
   "source": [
    "total_sales = weekly_sales.dot(butter_prices.T)"
   ]
  },
  {
   "cell_type": "code",
   "execution_count": 65,
   "id": "1cbaacbe-9c2f-4e51-a379-1ef69dc04709",
   "metadata": {},
   "outputs": [
    {
     "data": {
      "text/html": [
       "<div>\n",
       "<style scoped>\n",
       "    .dataframe tbody tr th:only-of-type {\n",
       "        vertical-align: middle;\n",
       "    }\n",
       "\n",
       "    .dataframe tbody tr th {\n",
       "        vertical-align: top;\n",
       "    }\n",
       "\n",
       "    .dataframe thead th {\n",
       "        text-align: right;\n",
       "    }\n",
       "</style>\n",
       "<table border=\"1\" class=\"dataframe\">\n",
       "  <thead>\n",
       "    <tr style=\"text-align: right;\">\n",
       "      <th></th>\n",
       "      <th>Price</th>\n",
       "    </tr>\n",
       "  </thead>\n",
       "  <tbody>\n",
       "    <tr>\n",
       "      <th>M</th>\n",
       "      <td>240</td>\n",
       "    </tr>\n",
       "    <tr>\n",
       "      <th>T</th>\n",
       "      <td>138</td>\n",
       "    </tr>\n",
       "    <tr>\n",
       "      <th>W</th>\n",
       "      <td>458</td>\n",
       "    </tr>\n",
       "    <tr>\n",
       "      <th>T</th>\n",
       "      <td>232</td>\n",
       "    </tr>\n",
       "    <tr>\n",
       "      <th>F</th>\n",
       "      <td>142</td>\n",
       "    </tr>\n",
       "  </tbody>\n",
       "</table>\n",
       "</div>"
      ],
      "text/plain": [
       "   Price\n",
       "M    240\n",
       "T    138\n",
       "W    458\n",
       "T    232\n",
       "F    142"
      ]
     },
     "execution_count": 65,
     "metadata": {},
     "output_type": "execute_result"
    }
   ],
   "source": [
    "total_sales"
   ]
  },
  {
   "cell_type": "code",
   "execution_count": 66,
   "id": "7094143c-c4b3-4f4f-8367-c2b727b307d0",
   "metadata": {},
   "outputs": [
    {
     "data": {
      "text/html": [
       "<div>\n",
       "<style scoped>\n",
       "    .dataframe tbody tr th:only-of-type {\n",
       "        vertical-align: middle;\n",
       "    }\n",
       "\n",
       "    .dataframe tbody tr th {\n",
       "        vertical-align: top;\n",
       "    }\n",
       "\n",
       "    .dataframe thead th {\n",
       "        text-align: right;\n",
       "    }\n",
       "</style>\n",
       "<table border=\"1\" class=\"dataframe\">\n",
       "  <thead>\n",
       "    <tr style=\"text-align: right;\">\n",
       "      <th></th>\n",
       "      <th>M</th>\n",
       "      <th>T</th>\n",
       "      <th>W</th>\n",
       "      <th>T</th>\n",
       "      <th>F</th>\n",
       "    </tr>\n",
       "  </thead>\n",
       "  <tbody>\n",
       "    <tr>\n",
       "      <th>Price</th>\n",
       "      <td>240</td>\n",
       "      <td>138</td>\n",
       "      <td>458</td>\n",
       "      <td>232</td>\n",
       "      <td>142</td>\n",
       "    </tr>\n",
       "  </tbody>\n",
       "</table>\n",
       "</div>"
      ],
      "text/plain": [
       "         M    T    W    T    F\n",
       "Price  240  138  458  232  142"
      ]
     },
     "execution_count": 66,
     "metadata": {},
     "output_type": "execute_result"
    }
   ],
   "source": [
    "daily_sales = butter_prices.dot(weekly_sales.T)\n",
    "daily_sales"
   ]
  },
  {
   "cell_type": "code",
   "execution_count": 67,
   "id": "e2c89c83-7e00-4101-a8f2-aa14d28f135b",
   "metadata": {},
   "outputs": [],
   "source": [
    "weekly_sales[\"Total ($)\"] = daily_sales.T"
   ]
  },
  {
   "cell_type": "code",
   "execution_count": 68,
   "id": "3002e88f-227e-41c8-bcbf-572f1ceee0a4",
   "metadata": {},
   "outputs": [
    {
     "data": {
      "text/html": [
       "<div>\n",
       "<style scoped>\n",
       "    .dataframe tbody tr th:only-of-type {\n",
       "        vertical-align: middle;\n",
       "    }\n",
       "\n",
       "    .dataframe tbody tr th {\n",
       "        vertical-align: top;\n",
       "    }\n",
       "\n",
       "    .dataframe thead th {\n",
       "        text-align: right;\n",
       "    }\n",
       "</style>\n",
       "<table border=\"1\" class=\"dataframe\">\n",
       "  <thead>\n",
       "    <tr style=\"text-align: right;\">\n",
       "      <th></th>\n",
       "      <th>Almond Butter</th>\n",
       "      <th>Peanut Butter</th>\n",
       "      <th>Cashew Butter</th>\n",
       "      <th>Total ($)</th>\n",
       "    </tr>\n",
       "  </thead>\n",
       "  <tbody>\n",
       "    <tr>\n",
       "      <th>M</th>\n",
       "      <td>12</td>\n",
       "      <td>15</td>\n",
       "      <td>0</td>\n",
       "      <td>240</td>\n",
       "    </tr>\n",
       "    <tr>\n",
       "      <th>T</th>\n",
       "      <td>3</td>\n",
       "      <td>3</td>\n",
       "      <td>7</td>\n",
       "      <td>138</td>\n",
       "    </tr>\n",
       "    <tr>\n",
       "      <th>W</th>\n",
       "      <td>9</td>\n",
       "      <td>19</td>\n",
       "      <td>18</td>\n",
       "      <td>458</td>\n",
       "    </tr>\n",
       "    <tr>\n",
       "      <th>T</th>\n",
       "      <td>4</td>\n",
       "      <td>6</td>\n",
       "      <td>12</td>\n",
       "      <td>232</td>\n",
       "    </tr>\n",
       "    <tr>\n",
       "      <th>F</th>\n",
       "      <td>1</td>\n",
       "      <td>6</td>\n",
       "      <td>7</td>\n",
       "      <td>142</td>\n",
       "    </tr>\n",
       "  </tbody>\n",
       "</table>\n",
       "</div>"
      ],
      "text/plain": [
       "   Almond Butter  Peanut Butter  Cashew Butter  Total ($)\n",
       "M             12             15              0        240\n",
       "T              3              3              7        138\n",
       "W              9             19             18        458\n",
       "T              4              6             12        232\n",
       "F              1              6              7        142"
      ]
     },
     "execution_count": 68,
     "metadata": {},
     "output_type": "execute_result"
    }
   ],
   "source": [
    "weekly_sales"
   ]
  },
  {
   "cell_type": "markdown",
   "id": "fa71a155-8f8e-4b8e-9fd4-2cb7649f534e",
   "metadata": {},
   "source": [
    "## Comparision Operators"
   ]
  },
  {
   "cell_type": "code",
   "execution_count": 69,
   "id": "384ae4c8-08a6-4313-b203-8bd0075f33de",
   "metadata": {},
   "outputs": [
    {
     "data": {
      "text/plain": [
       "(array([1, 2, 3]),\n",
       " array([[1, 2, 3],\n",
       "        [4, 5, 6]]))"
      ]
     },
     "execution_count": 69,
     "metadata": {},
     "output_type": "execute_result"
    }
   ],
   "source": [
    "a1,a2"
   ]
  },
  {
   "cell_type": "code",
   "execution_count": 70,
   "id": "24f3320b-92d1-4828-b783-6c90fe7d57a1",
   "metadata": {},
   "outputs": [
    {
     "data": {
      "text/plain": [
       "array([[ True,  True,  True],\n",
       "       [False, False, False]])"
      ]
     },
     "execution_count": 70,
     "metadata": {},
     "output_type": "execute_result"
    }
   ],
   "source": [
    "a1>=a2"
   ]
  },
  {
   "cell_type": "markdown",
   "id": "c0282d50-9ae1-45b2-a2af-41ce72310dc9",
   "metadata": {},
   "source": [
    "## sorting array"
   ]
  },
  {
   "cell_type": "code",
   "execution_count": 71,
   "id": "9a83bec6-c44a-45e4-9ff9-1259b777511c",
   "metadata": {},
   "outputs": [
    {
     "data": {
      "text/plain": [
       "array([[7, 8, 1, 5, 9],\n",
       "       [8, 9, 4, 3, 0],\n",
       "       [3, 5, 0, 2, 3]])"
      ]
     },
     "execution_count": 71,
     "metadata": {},
     "output_type": "execute_result"
    }
   ],
   "source": [
    "random_array = np.random.randint(10, size = (3,5))\n",
    "random_array"
   ]
  },
  {
   "cell_type": "code",
   "execution_count": 72,
   "id": "910b294c-b2d3-4f53-904b-b96740a65221",
   "metadata": {},
   "outputs": [],
   "source": [
    "random_array.sort()"
   ]
  },
  {
   "cell_type": "code",
   "execution_count": 73,
   "id": "7ba20e27-cb3f-4e52-9a6d-d52b5f7df770",
   "metadata": {},
   "outputs": [
    {
     "data": {
      "text/plain": [
       "array([[1, 5, 7, 8, 9],\n",
       "       [0, 3, 4, 8, 9],\n",
       "       [0, 2, 3, 3, 5]])"
      ]
     },
     "execution_count": 73,
     "metadata": {},
     "output_type": "execute_result"
    }
   ],
   "source": [
    "random_array"
   ]
  },
  {
   "cell_type": "code",
   "execution_count": 74,
   "id": "b2e78174-ffe2-4f7a-9efd-0860977584c4",
   "metadata": {},
   "outputs": [
    {
     "data": {
      "text/plain": [
       "array([[0, 1, 2, 3, 4],\n",
       "       [0, 1, 2, 3, 4],\n",
       "       [0, 1, 2, 3, 4]], dtype=int64)"
      ]
     },
     "execution_count": 74,
     "metadata": {},
     "output_type": "execute_result"
    }
   ],
   "source": [
    "np.argsort(random_array)"
   ]
  },
  {
   "cell_type": "code",
   "execution_count": 75,
   "id": "d8def1b4-c598-44dd-950d-73ce3a79c9b9",
   "metadata": {},
   "outputs": [
    {
     "data": {
      "text/plain": [
       "(array([1, 2, 2, 2, 2], dtype=int64), 4)"
      ]
     },
     "execution_count": 75,
     "metadata": {},
     "output_type": "execute_result"
    }
   ],
   "source": [
    "np.argmin(random_array, axis = 0), np.argmax(random_array)"
   ]
  },
  {
   "cell_type": "markdown",
   "id": "40e154ee-dd87-43a4-b9a1-7eb17b5fbd4f",
   "metadata": {},
   "source": [
    "## images"
   ]
  },
  {
   "cell_type": "code",
   "execution_count": 76,
   "id": "cc8b0cd6-ae47-4ec5-b5de-cf5bd38f3b78",
   "metadata": {},
   "outputs": [
    {
     "data": {
      "text/html": [
       "<img src=\"resources/images/numpy-panda.png\" />\n"
      ],
      "text/plain": [
       "<IPython.core.display.HTML object>"
      ]
     },
     "metadata": {},
     "output_type": "display_data"
    }
   ],
   "source": [
    "%%html\n",
    "<img src=\"resources/images/numpy-panda.png\" />"
   ]
  },
  {
   "cell_type": "code",
   "execution_count": 77,
   "id": "096a40cb-04cb-440c-bfe1-35e6d8082bfe",
   "metadata": {},
   "outputs": [],
   "source": [
    "#turn image to numpy array\n",
    "from matplotlib.image import imread\n",
    "panda = imread(\"resources/images/numpy-panda.png\")"
   ]
  },
  {
   "cell_type": "code",
   "execution_count": 78,
   "id": "8cc5b4ed-3555-4128-8fef-f69dec96630b",
   "metadata": {},
   "outputs": [
    {
     "data": {
      "text/plain": [
       "numpy.ndarray"
      ]
     },
     "execution_count": 78,
     "metadata": {},
     "output_type": "execute_result"
    }
   ],
   "source": [
    "type(panda)"
   ]
  },
  {
   "cell_type": "code",
   "execution_count": 79,
   "id": "1672c545-e388-4270-9198-841a7abb7c0c",
   "metadata": {},
   "outputs": [
    {
     "data": {
      "text/plain": [
       "array([[[0.05490196, 0.10588235, 0.06666667],\n",
       "        [0.05490196, 0.10588235, 0.06666667],\n",
       "        [0.05490196, 0.10588235, 0.06666667],\n",
       "        ...,\n",
       "        [0.16470589, 0.12941177, 0.09411765],\n",
       "        [0.16470589, 0.12941177, 0.09411765],\n",
       "        [0.16470589, 0.12941177, 0.09411765]],\n",
       "\n",
       "       [[0.05490196, 0.10588235, 0.06666667],\n",
       "        [0.05490196, 0.10588235, 0.06666667],\n",
       "        [0.05490196, 0.10588235, 0.06666667],\n",
       "        ...,\n",
       "        [0.16470589, 0.12941177, 0.09411765],\n",
       "        [0.16470589, 0.12941177, 0.09411765],\n",
       "        [0.16470589, 0.12941177, 0.09411765]],\n",
       "\n",
       "       [[0.05490196, 0.10588235, 0.06666667],\n",
       "        [0.05490196, 0.10588235, 0.06666667],\n",
       "        [0.05490196, 0.10588235, 0.06666667],\n",
       "        ...,\n",
       "        [0.16470589, 0.12941177, 0.09411765],\n",
       "        [0.16470589, 0.12941177, 0.09411765],\n",
       "        [0.16470589, 0.12941177, 0.09411765]],\n",
       "\n",
       "       ...,\n",
       "\n",
       "       [[0.13333334, 0.07450981, 0.05490196],\n",
       "        [0.12156863, 0.0627451 , 0.04313726],\n",
       "        [0.10980392, 0.05098039, 0.03137255],\n",
       "        ...,\n",
       "        [0.02745098, 0.02745098, 0.03529412],\n",
       "        [0.02745098, 0.02745098, 0.03529412],\n",
       "        [0.02745098, 0.02745098, 0.03529412]],\n",
       "\n",
       "       [[0.13333334, 0.07450981, 0.05490196],\n",
       "        [0.12156863, 0.0627451 , 0.04313726],\n",
       "        [0.12156863, 0.0627451 , 0.04313726],\n",
       "        ...,\n",
       "        [0.02352941, 0.02352941, 0.03137255],\n",
       "        [0.02352941, 0.02352941, 0.03137255],\n",
       "        [0.02352941, 0.02352941, 0.03137255]],\n",
       "\n",
       "       [[0.13333334, 0.07450981, 0.05490196],\n",
       "        [0.12156863, 0.0627451 , 0.04313726],\n",
       "        [0.12156863, 0.0627451 , 0.04313726],\n",
       "        ...,\n",
       "        [0.02352941, 0.02352941, 0.03137255],\n",
       "        [0.02352941, 0.02352941, 0.03137255],\n",
       "        [0.02352941, 0.02352941, 0.03137255]]], dtype=float32)"
      ]
     },
     "execution_count": 79,
     "metadata": {},
     "output_type": "execute_result"
    }
   ],
   "source": [
    "panda"
   ]
  },
  {
   "cell_type": "code",
   "execution_count": 80,
   "id": "4fd1e978-88ed-402d-8b4e-042903b7a557",
   "metadata": {},
   "outputs": [
    {
     "data": {
      "text/plain": [
       "(2330, 3500, 3)"
      ]
     },
     "execution_count": 80,
     "metadata": {},
     "output_type": "execute_result"
    }
   ],
   "source": [
    "panda.shape"
   ]
  },
  {
   "cell_type": "code",
   "execution_count": 81,
   "id": "f4048719-5538-40ad-b6b3-15ec06941f23",
   "metadata": {},
   "outputs": [
    {
     "data": {
      "text/plain": [
       "24465000"
      ]
     },
     "execution_count": 81,
     "metadata": {},
     "output_type": "execute_result"
    }
   ],
   "source": [
    "panda.size"
   ]
  },
  {
   "cell_type": "code",
   "execution_count": null,
   "id": "24176bde-fd46-4154-b882-32199bbbc225",
   "metadata": {},
   "outputs": [],
   "source": []
  }
 ],
 "metadata": {
  "kernelspec": {
   "display_name": "Python 3 (ipykernel)",
   "language": "python",
   "name": "python3"
  },
  "language_info": {
   "codemirror_mode": {
    "name": "ipython",
    "version": 3
   },
   "file_extension": ".py",
   "mimetype": "text/x-python",
   "name": "python",
   "nbconvert_exporter": "python",
   "pygments_lexer": "ipython3",
   "version": "3.9.1"
  }
 },
 "nbformat": 4,
 "nbformat_minor": 5
}
