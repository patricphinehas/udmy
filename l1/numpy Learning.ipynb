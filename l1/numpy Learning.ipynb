{
 "cells": [
  {
   "cell_type": "markdown",
   "id": "b1282b3d-3f40-4daa-a8cd-460be2ca6ee2",
   "metadata": {},
   "source": [
    "## Numpy Learning and Tricks"
   ]
  },
  {
   "cell_type": "code",
   "execution_count": 1,
   "id": "06e50ae2-61fb-42b6-97ea-803357e34641",
   "metadata": {},
   "outputs": [],
   "source": [
    "import numpy as np"
   ]
  },
  {
   "cell_type": "markdown",
   "id": "f01f4c09-6769-46ab-ae94-bc33de98ba6f",
   "metadata": {},
   "source": [
    "## datatype and attributes"
   ]
  },
  {
   "cell_type": "code",
   "execution_count": 2,
   "id": "a517b663-af11-4769-a0b8-bfedab1a160d",
   "metadata": {},
   "outputs": [
    {
     "data": {
      "text/plain": [
       "array([1, 2, 3])"
      ]
     },
     "execution_count": 2,
     "metadata": {},
     "output_type": "execute_result"
    }
   ],
   "source": [
    "# numpy' main datatype is ndarray\n",
    "\n",
    "a1 = np.array([1,2,3])\n",
    "a1"
   ]
  },
  {
   "cell_type": "code",
   "execution_count": 3,
   "id": "cef4e521-e166-40ed-8c27-af1f93c2b813",
   "metadata": {},
   "outputs": [
    {
     "data": {
      "text/plain": [
       "numpy.ndarray"
      ]
     },
     "execution_count": 3,
     "metadata": {},
     "output_type": "execute_result"
    }
   ],
   "source": [
    "type(a1)"
   ]
  },
  {
   "cell_type": "code",
   "execution_count": 4,
   "id": "4a484874-915b-4db4-863b-6743e9647302",
   "metadata": {},
   "outputs": [],
   "source": [
    "a2 = np.array([[1,2,3],\n",
    "               [4,5,6]])\n",
    "\n",
    "a3 = np.array([[[1,2,3],\n",
    "                [4,5,6]],\n",
    "               [[1,2,3],\n",
    "                [4,5,6]],\n",
    "               [[1,2,3],\n",
    "                [4,5,6]]])"
   ]
  },
  {
   "cell_type": "code",
   "execution_count": 5,
   "id": "0d1fdd02-acf1-40d0-9321-a851310a46ca",
   "metadata": {},
   "outputs": [
    {
     "data": {
      "text/plain": [
       "numpy.ndarray"
      ]
     },
     "execution_count": 5,
     "metadata": {},
     "output_type": "execute_result"
    }
   ],
   "source": [
    "type(a2)\n",
    "type(a3)"
   ]
  },
  {
   "cell_type": "code",
   "execution_count": 6,
   "id": "f6c6b0b3-18ee-4a57-8746-054239e9aba4",
   "metadata": {},
   "outputs": [
    {
     "data": {
      "text/plain": [
       "(3,)"
      ]
     },
     "execution_count": 6,
     "metadata": {},
     "output_type": "execute_result"
    }
   ],
   "source": [
    "a1.shape"
   ]
  },
  {
   "cell_type": "code",
   "execution_count": 7,
   "id": "a30befe1-7bc6-4232-8484-f452f2223bfd",
   "metadata": {},
   "outputs": [
    {
     "data": {
      "text/plain": [
       "(2, 3)"
      ]
     },
     "execution_count": 7,
     "metadata": {},
     "output_type": "execute_result"
    }
   ],
   "source": [
    "a2.shape"
   ]
  },
  {
   "cell_type": "code",
   "execution_count": 8,
   "id": "356ca1a9-c66a-4894-8ee2-3af1f90bbd00",
   "metadata": {},
   "outputs": [
    {
     "data": {
      "text/plain": [
       "(3, 2, 3)"
      ]
     },
     "execution_count": 8,
     "metadata": {},
     "output_type": "execute_result"
    }
   ],
   "source": [
    "a3.shape"
   ]
  },
  {
   "cell_type": "code",
   "execution_count": 9,
   "id": "b3099310-13aa-443f-b21d-2e8c7c675c34",
   "metadata": {},
   "outputs": [
    {
     "data": {
      "text/plain": [
       "(1, 2, 3)"
      ]
     },
     "execution_count": 9,
     "metadata": {},
     "output_type": "execute_result"
    }
   ],
   "source": [
    "a1.ndim, a2.ndim, a3.ndim"
   ]
  },
  {
   "cell_type": "markdown",
   "id": "7d11d984-65f9-4ed1-841f-f3149040bdea",
   "metadata": {},
   "source": [
    "## Create dataframe from ndarray"
   ]
  },
  {
   "cell_type": "code",
   "execution_count": 10,
   "id": "abf3f3bd-9426-4941-ad3f-7fccb1d79286",
   "metadata": {},
   "outputs": [],
   "source": [
    "import pandas as pd"
   ]
  },
  {
   "cell_type": "code",
   "execution_count": 11,
   "id": "c9fc45ed-d9c4-472a-9f0b-9431e4833254",
   "metadata": {},
   "outputs": [
    {
     "data": {
      "text/html": [
       "<div>\n",
       "<style scoped>\n",
       "    .dataframe tbody tr th:only-of-type {\n",
       "        vertical-align: middle;\n",
       "    }\n",
       "\n",
       "    .dataframe tbody tr th {\n",
       "        vertical-align: top;\n",
       "    }\n",
       "\n",
       "    .dataframe thead th {\n",
       "        text-align: right;\n",
       "    }\n",
       "</style>\n",
       "<table border=\"1\" class=\"dataframe\">\n",
       "  <thead>\n",
       "    <tr style=\"text-align: right;\">\n",
       "      <th></th>\n",
       "      <th>0</th>\n",
       "      <th>1</th>\n",
       "      <th>2</th>\n",
       "    </tr>\n",
       "  </thead>\n",
       "  <tbody>\n",
       "    <tr>\n",
       "      <th>0</th>\n",
       "      <td>1</td>\n",
       "      <td>2</td>\n",
       "      <td>3</td>\n",
       "    </tr>\n",
       "    <tr>\n",
       "      <th>1</th>\n",
       "      <td>4</td>\n",
       "      <td>5</td>\n",
       "      <td>6</td>\n",
       "    </tr>\n",
       "  </tbody>\n",
       "</table>\n",
       "</div>"
      ],
      "text/plain": [
       "   0  1  2\n",
       "0  1  2  3\n",
       "1  4  5  6"
      ]
     },
     "execution_count": 11,
     "metadata": {},
     "output_type": "execute_result"
    }
   ],
   "source": [
    "df = pd.DataFrame(a2)\n",
    "df"
   ]
  },
  {
   "cell_type": "markdown",
   "id": "fd9e00d3-4dab-4825-b7d4-296e8ab90cfe",
   "metadata": {},
   "source": [
    "# 2. creating arrays"
   ]
  },
  {
   "cell_type": "code",
   "execution_count": 12,
   "id": "2389a406-2386-4bf3-81cf-2659eab02c0b",
   "metadata": {},
   "outputs": [
    {
     "data": {
      "text/plain": [
       "array([[1, 1, 1],\n",
       "       [1, 1, 1]])"
      ]
     },
     "execution_count": 12,
     "metadata": {},
     "output_type": "execute_result"
    }
   ],
   "source": [
    "ones = np.ones((2,3),dtype=int)\n",
    "ones"
   ]
  },
  {
   "cell_type": "code",
   "execution_count": 13,
   "id": "b9597e92-0387-41bc-8f7c-a90793b32d7b",
   "metadata": {},
   "outputs": [
    {
     "data": {
      "text/plain": [
       "array([[0., 0., 0.],\n",
       "       [0., 0., 0.]])"
      ]
     },
     "execution_count": 13,
     "metadata": {},
     "output_type": "execute_result"
    }
   ],
   "source": [
    "zeros = np.zeros((2,3))\n",
    "zeros"
   ]
  },
  {
   "cell_type": "code",
   "execution_count": 14,
   "id": "96fb01fe-6a9d-4f62-b805-28cef5a41f10",
   "metadata": {},
   "outputs": [
    {
     "data": {
      "text/plain": [
       "array([2, 4, 6, 8])"
      ]
     },
     "execution_count": 14,
     "metadata": {},
     "output_type": "execute_result"
    }
   ],
   "source": [
    "range_arr = np.arange(2,10,2)\n",
    "range_arr"
   ]
  },
  {
   "cell_type": "code",
   "execution_count": 15,
   "id": "43b3674a-8a34-48f1-a7f7-75f98b16fc0b",
   "metadata": {},
   "outputs": [],
   "source": [
    "randomNum = np.random.randint(1,230, size= 10)"
   ]
  },
  {
   "cell_type": "code",
   "execution_count": 16,
   "id": "2fa7705c-9f0b-47ce-ae32-352919501698",
   "metadata": {},
   "outputs": [
    {
     "data": {
      "text/plain": [
       "array([ 70, 110, 139, 173,  67,  25, 211, 217, 223, 138])"
      ]
     },
     "execution_count": 16,
     "metadata": {},
     "output_type": "execute_result"
    }
   ],
   "source": [
    "randomNum"
   ]
  },
  {
   "cell_type": "code",
   "execution_count": 17,
   "id": "81aa9ffc-11dc-44de-ac2a-87177807e031",
   "metadata": {},
   "outputs": [
    {
     "data": {
      "text/plain": [
       "array([[0.19483982, 0.78614897, 0.64385628],\n",
       "       [0.60383013, 0.17418142, 0.16068996],\n",
       "       [0.56421733, 0.21226989, 0.82149009],\n",
       "       [0.69188775, 0.03799964, 0.16470187],\n",
       "       [0.76768635, 0.85346669, 0.43077642]])"
      ]
     },
     "execution_count": 17,
     "metadata": {},
     "output_type": "execute_result"
    }
   ],
   "source": [
    "ransomNum2 = np.random.random((5,3))\n",
    "ransomNum2"
   ]
  },
  {
   "cell_type": "code",
   "execution_count": 18,
   "id": "4bc779a6-1a94-44c4-829f-5840f02524da",
   "metadata": {},
   "outputs": [],
   "source": [
    "randomNum3 = np.random.rand(4,6)"
   ]
  },
  {
   "cell_type": "code",
   "execution_count": 19,
   "id": "399c87f7-7c9b-42db-88dd-a335785856bd",
   "metadata": {},
   "outputs": [
    {
     "data": {
      "text/plain": [
       "array([[0.06577084, 0.85493644, 0.21076234, 0.66930767, 0.41450322,\n",
       "        0.13141661],\n",
       "       [0.57703669, 0.00424089, 0.07355233, 0.74171516, 0.8498241 ,\n",
       "        0.78013199],\n",
       "       [0.97621941, 0.57366148, 0.25131671, 0.68373446, 0.58683975,\n",
       "        0.7406701 ],\n",
       "       [0.59810324, 0.98194035, 0.20792095, 0.3205988 , 0.62265203,\n",
       "        0.00585763]])"
      ]
     },
     "execution_count": 19,
     "metadata": {},
     "output_type": "execute_result"
    }
   ],
   "source": [
    "randomNum3"
   ]
  },
  {
   "cell_type": "code",
   "execution_count": 20,
   "id": "3c7bfe42-e48a-4c47-8385-aef6926ad6c3",
   "metadata": {},
   "outputs": [
    {
     "data": {
      "text/plain": [
       "array([[7, 5, 1],\n",
       "       [8, 7, 8],\n",
       "       [2, 9, 7],\n",
       "       [7, 7, 9],\n",
       "       [8, 4, 2]])"
      ]
     },
     "execution_count": 20,
     "metadata": {},
     "output_type": "execute_result"
    }
   ],
   "source": [
    "#pseudo random numbers\n",
    "np.random.seed(seed=4)\n",
    "randomNum4 = np.random.randint(10,size=(5,3))\n",
    "randomNum4"
   ]
  },
  {
   "cell_type": "code",
   "execution_count": null,
   "id": "51443a64-4d5c-466a-ba2e-707e6bfeca27",
   "metadata": {},
   "outputs": [],
   "source": []
  }
 ],
 "metadata": {
  "kernelspec": {
   "display_name": "Python 3 (ipykernel)",
   "language": "python",
   "name": "python3"
  },
  "language_info": {
   "codemirror_mode": {
    "name": "ipython",
    "version": 3
   },
   "file_extension": ".py",
   "mimetype": "text/x-python",
   "name": "python",
   "nbconvert_exporter": "python",
   "pygments_lexer": "ipython3",
   "version": "3.9.1"
  }
 },
 "nbformat": 4,
 "nbformat_minor": 5
}
